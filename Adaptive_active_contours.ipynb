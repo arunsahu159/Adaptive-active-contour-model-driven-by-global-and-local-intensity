{
  "cells": [
    {
      "cell_type": "markdown",
      "metadata": {
        "id": "RSVLjwH26ZKB"
      },
      "source": [
        "Name : Arun Ranjan Sahu<br>\n",
        "Regd No.: 22552<br>\n",
        "Course: I M.Tech (CS)<br>\n",
        "Paper Code : MTCS-205 (HCI-3 )<br>"
      ]
    },
    {
      "cell_type": "markdown",
      "metadata": {
        "id": "jcM4bxpx6ZKG"
      },
      "source": [
        "### Import Required Libraries"
      ]
    },
    {
      "cell_type": "code",
      "execution_count": null,
      "metadata": {
        "id": "Vcclblas6ZKG"
      },
      "outputs": [],
      "source": [
        "import numpy as np\n",
        "import cv2 \n",
        "from matplotlib import pyplot as plt"
      ]
    },
    {
      "cell_type": "code",
      "execution_count": null,
      "metadata": {
        "colab": {
          "base_uri": "https://localhost:8080/"
        },
        "id": "FaAMW2uR6vC5",
        "outputId": "bc6c548d-6035-4a99-8470-ea66ed1f133b"
      },
      "outputs": [
        {
          "name": "stdout",
          "output_type": "stream",
          "text": [
            "Drive already mounted at /content/drive; to attempt to forcibly remount, call drive.mount(\"/content/drive\", force_remount=True).\n"
          ]
        }
      ],
      "source": [
        "from google.colab import drive\n",
        "drive.mount('/content/drive')"
      ]
    },
    {
      "cell_type": "code",
      "execution_count": null,
      "metadata": {
        "id": "1XXqAB1C6xah"
      },
      "outputs": [],
      "source": [
        "IMAGE_PATH = \"/content/drive/My Drive/HCI3_2023/Images/22552_ ArunRanjanSahu/\""
      ]
    },
    {
      "cell_type": "code",
      "execution_count": null,
      "metadata": {
        "colab": {
          "base_uri": "https://localhost:8080/",
          "height": 285
        },
        "id": "0GOLIZFG6ZKI",
        "outputId": "e3a2a56a-a8a4-4364-adf0-27b3423b8723"
      },
      "outputs": [
        {
          "data": {
            "text/plain": [
              "<matplotlib.image.AxesImage at 0x7f944aa9f4c0>"
            ]
          },
          "execution_count": 390,
          "metadata": {},
          "output_type": "execute_result"
        },
        {
          "data": {
            "image/png": "[encoded data removed]",
            "text/plain": [
              "<Figure size 432x288 with 1 Axes>"
            ]
          },
          "metadata": {
            "needs_background": "light"
          },
          "output_type": "display_data"
        }
      ],
      "source": [
        "# Load the image in grayscale \n",
        "img = cv2.imread(IMAGE_PATH +'/3.bmp',0)\n",
        "plt.imshow(img,cmap='gray')"
      ]
    },
    {
      "cell_type": "markdown",
      "metadata": {
        "id": "rBkpefil6ZKI"
      },
      "source": [
        "## Step 1 : Initialize the level set function phi, and set the coefficient length penalty term v,time step t, the parameter gamma and other parameters\n"
      ]
    },
    {
      "cell_type": "markdown",
      "metadata": {
        "id": "JArILycD6ZKJ"
      },
      "source": [
        "### Initialize the level set function"
      ]
    },
    {
      "cell_type": "code",
      "execution_count": null,
      "metadata": {
        "id": "-L1cn2mI6ZKJ"
      },
      "outputs": [],
      "source": [
        "def initialize(img):\n",
        "    phi = np.ones((img.shape[0],img.shape[1])).astype(img.dtype)\n",
        "    phi[25:50,25:50]= -1 \n",
        "    phi=-phi\n",
        "    return phi"
      ]
    },
    {
      "cell_type": "code",
      "execution_count": null,
      "metadata": {
        "id": "LZZpRMc26ZKK"
      },
      "outputs": [],
      "source": [
        "phi = initialize(img)"
      ]
    },
    {
      "cell_type": "code",
      "execution_count": null,
      "metadata": {
        "colab": {
          "base_uri": "https://localhost:8080/",
          "height": 269
        },
        "id": "oZuGzcHJ6ZKL",
        "outputId": "8405d27a-d623-4564-9375-221ec70ac8e7"
      },
      "outputs": [
        {
          "data": {
            "text/plain": [
              "(([], []), ([], []))"
            ]
          },
          "execution_count": 393,
          "metadata": {},
          "output_type": "execute_result"
        },
        {
          "data": {
            "image/png": "[encoded data removed]",
            "text/plain": [
              "<Figure size 432x288 with 1 Axes>"
            ]
          },
          "metadata": {},
          "output_type": "display_data"
        }
      ],
      "source": [
        "plt.imshow(img,cmap='gray')\n",
        "plt.contour(phi,colors = 'red',linestyles = 'solid')\n",
        "plt.xticks([]), plt.yticks([]) \n",
        "# plt.savefig('coins_init.png',bbox_inches='tight')"
      ]
    },
    {
      "cell_type": "markdown",
      "metadata": {
        "id": "tYsyTRzLJyac"
      },
      "source": [
        "### Setting up the parameters"
      ]
    },
    {
      "cell_type": "code",
      "execution_count": null,
      "metadata": {
        "id": "Cu8lFWNr6ZKL"
      },
      "outputs": [],
      "source": [
        "v = 1\n",
        "time_step = 0.1\n",
        "gamma = 0.01"
      ]
    },
    {
      "cell_type": "markdown",
      "metadata": {
        "id": "MMukJ2Is6ZKM"
      },
      "source": [
        "## Step 2: Calculate the image local entropy"
      ]
    },
    {
      "cell_type": "markdown",
      "metadata": {
        "id": "YHRUzsdbKNn6"
      },
      "source": [
        "### Local Entropy\n",
        "$h_w(P_x(y)) = -\\int\\limits_0^L P_x(y)log_2P_x(y) dy$ <br>\n"
      ]
    },
    {
      "cell_type": "code",
      "execution_count": null,
      "metadata": {
        "id": "yjTD22H_6ZKM"
      },
      "outputs": [],
      "source": [
        "# Local entropy in a window\n",
        "def ent_loc(img,win_i_strt,win_j_strt): \n",
        "    temp = img\n",
        "    p = np.array([(temp[win_i_strt:win_i_strt+9,win_j_strt:win_j_strt+9]==v).sum() for v in range(256)]) #calculate the normalized histogram\n",
        "    P = p/(p.sum()+0.001) #the probability values\n",
        "    return -(P[P>0]*np.log2(P[P>0])).sum()"
      ]
    },
    {
      "cell_type": "code",
      "execution_count": null,
      "metadata": {
        "id": "FKpiLvYj6ZKN"
      },
      "outputs": [],
      "source": [
        "# Calculate the local entropy and append it to the list\n",
        "h=[]\n",
        "for i in range(img.shape[0]-9) :\n",
        "    for j in range(img.shape[1]-9):\n",
        "        val_ent = ent_loc(img,i,j)\n",
        "        h.append(val_ent)"
      ]
    },
    {
      "cell_type": "markdown",
      "metadata": {
        "id": "wtP6azOzK8A3"
      },
      "source": [
        "### ***Normalize*** the local entropy in range of `[0,1]`"
      ]
    },
    {
      "cell_type": "code",
      "execution_count": null,
      "metadata": {
        "id": "COPmd_Eq6ZKN"
      },
      "outputs": [],
      "source": [
        "# Normalize local entropy\n",
        "from sklearn.preprocessing import normalize\n",
        "h_loc= normalize([h],norm ='max')\n",
        "h_w = h_loc.flatten()"
      ]
    },
    {
      "cell_type": "markdown",
      "metadata": {
        "id": "n88QNRnhKf2v"
      },
      "source": [
        "### ***Adaptive Parameters***\n",
        "$ \\alpha = \\gamma*(1-h_{mean})*(1-h_w) $<br>\n",
        "$\\beta = 1 - \\alpha$"
      ]
    },
    {
      "cell_type": "code",
      "execution_count": null,
      "metadata": {
        "id": "Zmd-Pb6E6ZKN"
      },
      "outputs": [],
      "source": [
        "# Normalize mean Entropy\n",
        "h_mean = sum(h)/len(h)\n",
        "rang = np.max(h)-np.min(h)\n",
        "h_norm = (h_mean - min(h))/rang"
      ]
    },
    {
      "cell_type": "markdown",
      "metadata": {
        "id": "QWg2dDBm6ZKO"
      },
      "source": [
        "## Step 3: Calculate the values of c1, c2, f1, f2"
      ]
    },
    {
      "cell_type": "markdown",
      "metadata": {
        "id": "vNQb7NFNLSzT"
      },
      "source": [
        "\n",
        "$  c_1 = \\frac{\\int\\limits_{\\Omega}I(x)H_{\\epsilon}(\\phi(x))}{\\int\\limits_{\\Omega}H_{\\epsilon}(\\phi(x))} dx$<br>\n",
        "$ c_2 = \\frac{\\int\\limits_{\\Omega}I(x)(1-H_{\\epsilon}(\\phi(x)))}{\\int\\limits_{\\Omega}1-H_{\\epsilon}(\\phi(x))} dx$ <br>\n"
      ]
    },
    {
      "cell_type": "code",
      "execution_count": null,
      "metadata": {
        "id": "RLc5lkUX6ZKO"
      },
      "outputs": [],
      "source": [
        "def c1c2(img):\n",
        "    inside_idx = np.flatnonzero(phi >= 0)\n",
        "    outside_idx = np.flatnonzero(phi < 0)\n",
        "    #mean value inside curve\n",
        "    c1 = np.sum(img.flat[inside_idx]) / (len(inside_idx) + 0.00001)  # exterior mean\n",
        "    #mean value outside curve\n",
        "    c2 = np.sum(img.flat[outside_idx]) / (len(outside_idx) + 0.00001)  # interior mean\n",
        "    return c1,c2"
      ]
    },
    {
      "cell_type": "code",
      "execution_count": null,
      "metadata": {
        "id": "LIm6XcGu6ZKO"
      },
      "outputs": [],
      "source": [
        "win_rows,win_cols = 19, 19\n",
        "window = np.ones((win_rows,win_cols))/(win_cols*win_rows)"
      ]
    },
    {
      "cell_type": "markdown",
      "metadata": {
        "id": "SQofV6NKMNlV"
      },
      "source": [
        "### Heaviside function\n",
        "$H(z) = \\frac{1}{2}[1+\\frac{2}{\\pi}arctan(\\frac{z}{\\epsilon})]$ "
      ]
    },
    {
      "cell_type": "code",
      "execution_count": null,
      "metadata": {
        "id": "3OW0EdG06ZKP"
      },
      "outputs": [],
      "source": [
        "import itertools\n",
        "import math\n",
        "def H_of_phi(img):\n",
        "    e = 1\n",
        "    rows = img.shape[0]\n",
        "    cols = img.shape[1]\n",
        "    h_of_phi = [[0]*cols]*rows\n",
        "    h_of_phi = np.array(h_of_phi)\n",
        "    # for i, j in itertools.product(range(rows), range(cols)):\n",
        "    for i, j in itertools.product(range(int(rows)), range(int(cols))):\n",
        "        if phi[i][j]>e:\n",
        "            h_of_phi[i][j] = 1\n",
        "        elif phi[i][j]<e:\n",
        "            h_of_phi[i][j] = 0\n",
        "        else:\n",
        "            h_of_phi[i][j]=0.5*(1+(2/np.pi)*(math.atan(phi[i][j]))/e)\n",
        "    return h_of_phi\n"
      ]
    },
    {
      "cell_type": "markdown",
      "metadata": {
        "id": "Uik6iR9BLy1K"
      },
      "source": [
        "\n",
        "$ f_1 = \\frac{\\int\\limits_{\\Omega}g_k(x-y)(I(y)H(\\phi(y))}{\\int\\limits_{\\Omega}g_k(x-y)H((\\phi(y)))} dx$<br>"
      ]
    },
    {
      "cell_type": "code",
      "execution_count": null,
      "metadata": {
        "colab": {
          "base_uri": "https://localhost:8080/"
        },
        "id": "PueJw5KH6ZKQ",
        "outputId": "3a7a5f19-601d-43d6-c1e9-247b39203578"
      },
      "outputs": [
        {
          "data": {
            "text/plain": [
              "1152665.0"
            ]
          },
          "execution_count": 402,
          "metadata": {},
          "output_type": "execute_result"
        }
      ],
      "source": [
        "def f1(img,window):\n",
        "    hofphi = H_of_phi(img)\n",
        "    prod_num = (img*hofphi)\n",
        "    numerator_f1 = cv2.filter2D(prod_num,-1,window)\n",
        "    denominator_f1 = cv2.filter2D(hofphi,-1,window)\n",
        "    return np.sum(numerator_f1/(denominator_f1+1))\n",
        "\n",
        "f_1 = f1(img,window)\n",
        "f_1"
      ]
    },
    {
      "cell_type": "markdown",
      "metadata": {
        "id": "grVpJK_QMBDV"
      },
      "source": [
        "\n",
        "$f_2 = \\frac{\\int\\limits_{\\Omega}g_k(x-y)(I(y)(1-H(\\phi(y)))}{\\int\\limits_{\\Omega}g_k(x-y)(1-H((\\phi(y))))} dx$<br>"
      ]
    },
    {
      "cell_type": "code",
      "execution_count": null,
      "metadata": {
        "colab": {
          "base_uri": "https://localhost:8080/"
        },
        "id": "nZu7O1mA6ZKR",
        "outputId": "59d1651f-c901-4760-cfe5-f6ecfa7dd322"
      },
      "outputs": [
        {
          "data": {
            "text/plain": [
              "84341.0"
            ]
          },
          "execution_count": 403,
          "metadata": {},
          "output_type": "execute_result"
        }
      ],
      "source": [
        "def f2(img,window):\n",
        "    hofphi = H_of_phi(img)\n",
        "    prod_num = (img*(1-hofphi))\n",
        "    numerator_f1 = cv2.filter2D(prod_num,-1,window)\n",
        "    denominator_f1 = cv2.filter2D((1-hofphi),-1,window)\n",
        "    return np.sum(numerator_f1/(denominator_f1+1))\n",
        "\n",
        "f_2 = f2(img,window)\n",
        "f_2"
      ]
    },
    {
      "cell_type": "markdown",
      "metadata": {
        "id": "w4kTEt356ZKR"
      },
      "source": [
        "## Step 4: Evolve the level set function according to formula(17), then regularize the level set function by equation(18)"
      ]
    },
    {
      "cell_type": "markdown",
      "metadata": {
        "id": "2baaNqYENJLg"
      },
      "source": [
        "### ***Dirac Function***\n",
        "$\\delta_{\\epsilon}(z)  = \\frac{1}{\\pi} \\frac{\\epsilon}{\\epsilon^2+z^2}$"
      ]
    },
    {
      "cell_type": "code",
      "execution_count": null,
      "metadata": {
        "id": "iBiCqOwp6ZKR"
      },
      "outputs": [],
      "source": [
        "def delta(phi):\n",
        "    e = 1\n",
        "    rows = phi.shape[0]\n",
        "    cols = phi.shape[1]\n",
        "    delta_phi = [[0]*cols]*rows\n",
        "    delta_phi = np.array(delta_phi)\n",
        "    return ((1/np.pi)*(e/(e**2+delta_phi**2)))"
      ]
    },
    {
      "cell_type": "code",
      "execution_count": null,
      "metadata": {
        "id": "lHVmmixU6ZKS"
      },
      "outputs": [],
      "source": [
        "# Calculate the gradient\n",
        "def gradient(f):\t\t\n",
        "    fx = f\n",
        "    fy = f\n",
        "    n, m = f.shape\n",
        "    fx[:, 0] = f[:, 1] - f[:, 0]\n",
        "    fx[:, -1] = f[:, -1] - f[:, -2]\n",
        "    fy[0, :] = f[1,:] - f[0,:]\n",
        "    fy[-1, :] = f[-1,:] - f[-2,:]\n",
        "    for j in range(1, m-1):\n",
        "        fx[:, j] = (f[:, j+1] - f[:, j-1]) / 2.0\n",
        "    for i in range(1, n-1):\n",
        "        fy[i, :] = (f[i+1, :] - f[i-1, :]) / 2.0\n",
        "    return fx, fy\n"
      ]
    },
    {
      "cell_type": "code",
      "execution_count": null,
      "metadata": {
        "id": "8etdlpnn6ZKS"
      },
      "outputs": [],
      "source": [
        "# Calculate the Lenght term\n",
        "def curvature_central(phi):\n",
        "    #gradient of phi \n",
        "    phi_x, phi_y = gradient(phi)\n",
        "   \n",
        "    #Norm of phi\n",
        "    norm_gradient = np.sqrt(phi_x ** 2 + phi_y ** 2 + 1e-10)\n",
        "\n",
        "    #return the divergence\n",
        "    nxx, _ = gradient(phi_x / norm_gradient)\n",
        "    _, nyy = gradient(phi_y / norm_gradient)\n",
        "    return (nxx+nyy)\n"
      ]
    },
    {
      "cell_type": "markdown",
      "metadata": {
        "id": "GRZRKIr0NoBx"
      },
      "source": [
        "### ***Evolution of level Set***\n",
        "$ \\frac{\\partial\\phi}{\\partial t} = \\delta_{\\epsilon}(\\phi)[\\alpha((I-c_2)^2-(I-c_1)^2) + \\beta((h_x (I-f_2)^2) - h_x(I-f_1)^2) + \\nu*\\delta_{\\epsilon}(\\phi)div(\\frac{\\Delta\\phi}{|\\Delta\\phi|})]$ <br>\n",
        "\n",
        "### ***Regularization of the level Set***\n",
        "$\\phi^{n+1} = g_{\\sqrt{\\Delta t}}\\phi^n $"
      ]
    },
    {
      "cell_type": "code",
      "execution_count": null,
      "metadata": {
        "colab": {
          "base_uri": "https://localhost:8080/",
          "height": 269
        },
        "id": "SpD8qNyl6ZKS",
        "outputId": "f2f1c94f-f01e-4d78-a696-75e51ae40363"
      },
      "outputs": [
        {
          "data": {
            "text/plain": [
              "<matplotlib.contour.QuadContourSet at 0x7f944aa52be0>"
            ]
          },
          "execution_count": 407,
          "metadata": {},
          "output_type": "execute_result"
        },
        {
          "data": {
            "image/png": "[encoded data removed]",
            "text/plain": [
              "<Figure size 432x288 with 1 Axes>"
            ]
          },
          "metadata": {},
          "output_type": "display_data"
        }
      ],
      "source": [
        "max_iter = 30\n",
        "i=0\n",
        "root_time_step = (time_step)**0.5\n",
        "\n",
        "for _ in range(max_iter):\n",
        "    delta_term = delta(phi)\n",
        "    length_term = curvature_central(phi)\n",
        "\n",
        "    alpha = gamma*(1-h_w[i])*(1-h_norm) #Parameter for global term\n",
        "    beta = 1-alpha    #Parameter for Local term\n",
        "\n",
        "    c1,c2 = c1c2(img)\n",
        "    f_1 = f1(img,window)\n",
        "    f_2 = f2(img,window)\n",
        "\n",
        "    length_term = v*length_term*delta_term\n",
        "    global_term = alpha*((img-c2)**2 - (img-c1)**2)\n",
        "    local_term = beta*(h[i]*(img-f_2)**2 - beta*h[i]*(img-f_1)**2)\n",
        "    partial_phi = delta_term*(length_term + global_term + local_term)\n",
        "\n",
        "    phi = time_step*partial_phi\n",
        "    kernel = cv2.getGaussianKernel(5,root_time_step+0.5)\n",
        "    phi = cv2.filter2D(phi,-1,kernel)\n",
        "    i+=100\n",
        "\n",
        "plt.imshow(img,cmap='gray')\n",
        "plt.xticks([]),plt.yticks([])\n",
        "plt.contour(phi,0,colors= 'red',linestyles='solid')\n"
      ]
    }
  ],
  "metadata": {
    "colab": {
      "provenance": []
    },
    "kernelspec": {
      "display_name": "base",
      "language": "python",
      "name": "python3"
    },
    "language_info": {
      "codemirror_mode": {
        "name": "ipython",
        "version": 3
      },
      "file_extension": ".py",
      "mimetype": "text/x-python",
      "name": "python",
      "nbconvert_exporter": "python",
      "pygments_lexer": "ipython3",
      "version": "3.10.9"
    },
    "orig_nbformat": 4,
    "vscode": {
      "interpreter": {
        "hash": "8ba759e3238eb6275562be32a56bf6004a92c9b095740c5af11a0780808a688b"
      }
    }
  },
  "nbformat": 4,
  "nbformat_minor": 0
}
